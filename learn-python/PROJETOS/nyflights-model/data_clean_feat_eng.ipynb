{
 "cells": [
  {
   "cell_type": "code",
   "execution_count": 1,
   "metadata": {},
   "outputs": [],
   "source": [
    "import pandas as pd\n",
    "import datetime\n",
    "import numpy as np"
   ]
  },
  {
   "cell_type": "code",
   "execution_count": 2,
   "metadata": {},
   "outputs": [
    {
     "data": {
      "text/html": [
       "<div>\n",
       "<style scoped>\n",
       "    .dataframe tbody tr th:only-of-type {\n",
       "        vertical-align: middle;\n",
       "    }\n",
       "\n",
       "    .dataframe tbody tr th {\n",
       "        vertical-align: top;\n",
       "    }\n",
       "\n",
       "    .dataframe thead th {\n",
       "        text-align: right;\n",
       "    }\n",
       "</style>\n",
       "<table border=\"1\" class=\"dataframe\">\n",
       "  <thead>\n",
       "    <tr style=\"text-align: right;\">\n",
       "      <th></th>\n",
       "      <th>year</th>\n",
       "      <th>month</th>\n",
       "      <th>day</th>\n",
       "      <th>dep_time</th>\n",
       "      <th>dep_delay</th>\n",
       "      <th>arr_time</th>\n",
       "      <th>arr_delay</th>\n",
       "      <th>carrier</th>\n",
       "      <th>tailnum</th>\n",
       "      <th>flight</th>\n",
       "      <th>origin</th>\n",
       "      <th>dest</th>\n",
       "      <th>air_time</th>\n",
       "      <th>distance</th>\n",
       "      <th>hour</th>\n",
       "      <th>minute</th>\n",
       "    </tr>\n",
       "  </thead>\n",
       "  <tbody>\n",
       "    <tr>\n",
       "      <th>1</th>\n",
       "      <td>2013</td>\n",
       "      <td>1</td>\n",
       "      <td>1</td>\n",
       "      <td>517.0</td>\n",
       "      <td>2.0</td>\n",
       "      <td>830.0</td>\n",
       "      <td>11.0</td>\n",
       "      <td>UA</td>\n",
       "      <td>N14228</td>\n",
       "      <td>1545</td>\n",
       "      <td>EWR</td>\n",
       "      <td>IAH</td>\n",
       "      <td>227.0</td>\n",
       "      <td>1400</td>\n",
       "      <td>5.0</td>\n",
       "      <td>17.0</td>\n",
       "    </tr>\n",
       "    <tr>\n",
       "      <th>2</th>\n",
       "      <td>2013</td>\n",
       "      <td>1</td>\n",
       "      <td>1</td>\n",
       "      <td>533.0</td>\n",
       "      <td>4.0</td>\n",
       "      <td>850.0</td>\n",
       "      <td>20.0</td>\n",
       "      <td>UA</td>\n",
       "      <td>N24211</td>\n",
       "      <td>1714</td>\n",
       "      <td>LGA</td>\n",
       "      <td>IAH</td>\n",
       "      <td>227.0</td>\n",
       "      <td>1416</td>\n",
       "      <td>5.0</td>\n",
       "      <td>33.0</td>\n",
       "    </tr>\n",
       "    <tr>\n",
       "      <th>3</th>\n",
       "      <td>2013</td>\n",
       "      <td>1</td>\n",
       "      <td>1</td>\n",
       "      <td>542.0</td>\n",
       "      <td>2.0</td>\n",
       "      <td>923.0</td>\n",
       "      <td>33.0</td>\n",
       "      <td>AA</td>\n",
       "      <td>N619AA</td>\n",
       "      <td>1141</td>\n",
       "      <td>JFK</td>\n",
       "      <td>MIA</td>\n",
       "      <td>160.0</td>\n",
       "      <td>1089</td>\n",
       "      <td>5.0</td>\n",
       "      <td>42.0</td>\n",
       "    </tr>\n",
       "    <tr>\n",
       "      <th>4</th>\n",
       "      <td>2013</td>\n",
       "      <td>1</td>\n",
       "      <td>1</td>\n",
       "      <td>544.0</td>\n",
       "      <td>-1.0</td>\n",
       "      <td>1004.0</td>\n",
       "      <td>-18.0</td>\n",
       "      <td>B6</td>\n",
       "      <td>N804JB</td>\n",
       "      <td>725</td>\n",
       "      <td>JFK</td>\n",
       "      <td>BQN</td>\n",
       "      <td>183.0</td>\n",
       "      <td>1576</td>\n",
       "      <td>5.0</td>\n",
       "      <td>44.0</td>\n",
       "    </tr>\n",
       "    <tr>\n",
       "      <th>5</th>\n",
       "      <td>2013</td>\n",
       "      <td>1</td>\n",
       "      <td>1</td>\n",
       "      <td>554.0</td>\n",
       "      <td>-6.0</td>\n",
       "      <td>812.0</td>\n",
       "      <td>-25.0</td>\n",
       "      <td>DL</td>\n",
       "      <td>N668DN</td>\n",
       "      <td>461</td>\n",
       "      <td>LGA</td>\n",
       "      <td>ATL</td>\n",
       "      <td>116.0</td>\n",
       "      <td>762</td>\n",
       "      <td>5.0</td>\n",
       "      <td>54.0</td>\n",
       "    </tr>\n",
       "  </tbody>\n",
       "</table>\n",
       "</div>"
      ],
      "text/plain": [
       "   year  month  day  dep_time  dep_delay  arr_time  arr_delay carrier tailnum  \\\n",
       "1  2013      1    1     517.0        2.0     830.0       11.0      UA  N14228   \n",
       "2  2013      1    1     533.0        4.0     850.0       20.0      UA  N24211   \n",
       "3  2013      1    1     542.0        2.0     923.0       33.0      AA  N619AA   \n",
       "4  2013      1    1     544.0       -1.0    1004.0      -18.0      B6  N804JB   \n",
       "5  2013      1    1     554.0       -6.0     812.0      -25.0      DL  N668DN   \n",
       "\n",
       "   flight origin dest  air_time  distance  hour  minute  \n",
       "1    1545    EWR  IAH     227.0      1400   5.0    17.0  \n",
       "2    1714    LGA  IAH     227.0      1416   5.0    33.0  \n",
       "3    1141    JFK  MIA     160.0      1089   5.0    42.0  \n",
       "4     725    JFK  BQN     183.0      1576   5.0    44.0  \n",
       "5     461    LGA  ATL     116.0       762   5.0    54.0  "
      ]
     },
     "execution_count": 2,
     "metadata": {},
     "output_type": "execute_result"
    }
   ],
   "source": [
    "df = pd.read_csv(\n",
    "    \"https://raw.githubusercontent.com/JackyP/testing/master/datasets/nycflights.csv\",\n",
    "    index_col=0\n",
    "    )\n",
    "df.head()"
   ]
  },
  {
   "cell_type": "markdown",
   "metadata": {},
   "source": [
    "## Saneamento de Dados"
   ]
  },
  {
   "cell_type": "markdown",
   "metadata": {},
   "source": [
    "### Seleção de colunas & Tratamento dos nulos"
   ]
  },
  {
   "cell_type": "code",
   "execution_count": 3,
   "metadata": {},
   "outputs": [
    {
     "name": "stdout",
     "output_type": "stream",
     "text": [
      "<class 'pandas.core.frame.DataFrame'>\n",
      "Index: 336776 entries, 1 to 336776\n",
      "Data columns (total 16 columns):\n",
      " #   Column     Non-Null Count   Dtype  \n",
      "---  ------     --------------   -----  \n",
      " 0   year       336776 non-null  int64  \n",
      " 1   month      336776 non-null  int64  \n",
      " 2   day        336776 non-null  int64  \n",
      " 3   dep_time   328521 non-null  float64\n",
      " 4   dep_delay  328521 non-null  float64\n",
      " 5   arr_time   328063 non-null  float64\n",
      " 6   arr_delay  327346 non-null  float64\n",
      " 7   carrier    336776 non-null  object \n",
      " 8   tailnum    334264 non-null  object \n",
      " 9   flight     336776 non-null  int64  \n",
      " 10  origin     336776 non-null  object \n",
      " 11  dest       336776 non-null  object \n",
      " 12  air_time   327346 non-null  float64\n",
      " 13  distance   336776 non-null  int64  \n",
      " 14  hour       328521 non-null  float64\n",
      " 15  minute     328521 non-null  float64\n",
      "dtypes: float64(7), int64(5), object(4)\n",
      "memory usage: 43.7+ MB\n"
     ]
    }
   ],
   "source": [
    "df.info()"
   ]
  },
  {
   "cell_type": "markdown",
   "metadata": {},
   "source": [
    "Critérios :\n",
    "1. [\"arr_time\", \"dep_time\", \"carrier\", \"flight\"] não podem ser nulos\n",
    "2. As observações nulas destes campos devem ser removidos\n",
    "3. Se fosse para tratar os nulos usar: ex df[\"dep_time\"].fillna(\"NA\")"
   ]
  },
  {
   "cell_type": "code",
   "execution_count": 4,
   "metadata": {},
   "outputs": [],
   "source": [
    "usecols=[\"dep_time\",\"arr_time\",\"carrier\",\"flight\", \"tailnum\",\"air_time\",\"distance\", \"origin\", \"dest\"]"
   ]
  },
  {
   "cell_type": "code",
   "execution_count": 20,
   "metadata": {},
   "outputs": [],
   "source": [
    "df_raw = df.loc[\n",
    "    (~df[\"arr_time\"].isna()) \\\n",
    "    & (~df[\"dep_time\"].isna()) \\\n",
    "    & (~df[\"carrier\"].isna()) \\\n",
    "    & (~df[\"flight\"].isna())\n",
    "].loc[:, usecols]"
   ]
  },
  {
   "cell_type": "code",
   "execution_count": 18,
   "metadata": {},
   "outputs": [
    {
     "name": "stdout",
     "output_type": "stream",
     "text": [
      "<class 'pandas.core.frame.DataFrame'>\n",
      "Index: 328063 entries, 1 to 336770\n",
      "Data columns (total 9 columns):\n",
      " #   Column    Non-Null Count   Dtype  \n",
      "---  ------    --------------   -----  \n",
      " 0   dep_time  328063 non-null  float64\n",
      " 1   arr_time  328063 non-null  float64\n",
      " 2   carrier   328063 non-null  object \n",
      " 3   flight    328063 non-null  int64  \n",
      " 4   tailnum   328063 non-null  object \n",
      " 5   air_time  327346 non-null  float64\n",
      " 6   distance  328063 non-null  int64  \n",
      " 7   origin    328063 non-null  object \n",
      " 8   dest      328063 non-null  object \n",
      "dtypes: float64(3), int64(2), object(4)\n",
      "memory usage: 25.0+ MB\n"
     ]
    }
   ],
   "source": [
    "df_raw.info()"
   ]
  },
  {
   "cell_type": "code",
   "execution_count": 21,
   "metadata": {},
   "outputs": [],
   "source": [
    "df_raw[\"air_time\"] = df_raw[\"air_time\"].fillna(0)"
   ]
  },
  {
   "cell_type": "code",
   "execution_count": 22,
   "metadata": {},
   "outputs": [],
   "source": [
    "df_raw.drop_duplicates(inplace=True)"
   ]
  },
  {
   "cell_type": "code",
   "execution_count": 23,
   "metadata": {},
   "outputs": [],
   "source": [
    "df_raw = df_raw.astype(\"object\")"
   ]
  },
  {
   "cell_type": "markdown",
   "metadata": {},
   "source": [
    "Perguntas:\n",
    "1. Qual a vantagem de avaliar os nulos no começo do processo? Podemos pegar erro logo de início\n",
    "2. Quais os riscos envolvidos? Se estvermos em um pipeline, perdemos a \"foto\" do dado bruto para uma camada raw. A boa prática em um pipeline seria realizar apenas a transformação para str / objeto"
   ]
  },
  {
   "cell_type": "code",
   "execution_count": 32,
   "metadata": {},
   "outputs": [],
   "source": [
    "tmp = df.loc[:, usecols].copy()\n",
    "for col in [\"arr_time\", \"dep_time\", \"carrier\", \"flight\"]:\n",
    "    tmp_df = tmp.loc[~df[col].isna()]\n",
    "    tmp = tmp_df.copy()"
   ]
  },
  {
   "cell_type": "code",
   "execution_count": 33,
   "metadata": {},
   "outputs": [],
   "source": [
    "tmp.drop_duplicates(inplace=True)"
   ]
  },
  {
   "cell_type": "code",
   "execution_count": 35,
   "metadata": {},
   "outputs": [
    {
     "data": {
      "text/plain": [
       "True"
      ]
     },
     "execution_count": 35,
     "metadata": {},
     "output_type": "execute_result"
    }
   ],
   "source": [
    "tmp.shape[0] == df_raw.shape[0]"
   ]
  },
  {
   "cell_type": "markdown",
   "metadata": {},
   "source": [
    "### Rename e tipagem"
   ]
  },
  {
   "cell_type": "code",
   "execution_count": 36,
   "metadata": {},
   "outputs": [],
   "source": [
    "new_columns = [\"datetime_partida\", \"datetime_chegada\", \"\", \"id_voo\", \"id_aeronave\",\"tempo_voo\", \"distancia\", \"origem\", \"destino\"]"
   ]
  },
  {
   "cell_type": "code",
   "execution_count": 37,
   "metadata": {},
   "outputs": [
    {
     "data": {
      "text/plain": [
       "{'dep_time': 'datetime_partida',\n",
       " 'arr_time': 'datetime_chegada',\n",
       " 'carrier': 'companhia',\n",
       " 'flight': 'id_voo',\n",
       " 'tailnum': 'id_aeronave',\n",
       " 'air_time': 'tempo_voo',\n",
       " 'distance': 'distancia',\n",
       " 'origin': 'origem',\n",
       " 'dest': 'destino'}"
      ]
     },
     "execution_count": 37,
     "metadata": {},
     "output_type": "execute_result"
    }
   ],
   "source": [
    "columns_map = {usecols[i]: new_columns[i] for i in range(len(usecols))}\n",
    "columns_map"
   ]
  },
  {
   "cell_type": "code",
   "execution_count": 38,
   "metadata": {},
   "outputs": [
    {
     "data": {
      "text/html": [
       "<div>\n",
       "<style scoped>\n",
       "    .dataframe tbody tr th:only-of-type {\n",
       "        vertical-align: middle;\n",
       "    }\n",
       "\n",
       "    .dataframe tbody tr th {\n",
       "        vertical-align: top;\n",
       "    }\n",
       "\n",
       "    .dataframe thead th {\n",
       "        text-align: right;\n",
       "    }\n",
       "</style>\n",
       "<table border=\"1\" class=\"dataframe\">\n",
       "  <thead>\n",
       "    <tr style=\"text-align: right;\">\n",
       "      <th></th>\n",
       "      <th>datetime_partida</th>\n",
       "      <th>datetime_chegada</th>\n",
       "      <th>companhia</th>\n",
       "      <th>id_voo</th>\n",
       "      <th>id_aeronave</th>\n",
       "      <th>tempo_voo</th>\n",
       "      <th>distancia</th>\n",
       "      <th>origem</th>\n",
       "      <th>destino</th>\n",
       "    </tr>\n",
       "  </thead>\n",
       "  <tbody>\n",
       "    <tr>\n",
       "      <th>1</th>\n",
       "      <td>517.0</td>\n",
       "      <td>830.0</td>\n",
       "      <td>UA</td>\n",
       "      <td>1545</td>\n",
       "      <td>N14228</td>\n",
       "      <td>227.0</td>\n",
       "      <td>1400</td>\n",
       "      <td>EWR</td>\n",
       "      <td>IAH</td>\n",
       "    </tr>\n",
       "    <tr>\n",
       "      <th>2</th>\n",
       "      <td>533.0</td>\n",
       "      <td>850.0</td>\n",
       "      <td>UA</td>\n",
       "      <td>1714</td>\n",
       "      <td>N24211</td>\n",
       "      <td>227.0</td>\n",
       "      <td>1416</td>\n",
       "      <td>LGA</td>\n",
       "      <td>IAH</td>\n",
       "    </tr>\n",
       "    <tr>\n",
       "      <th>3</th>\n",
       "      <td>542.0</td>\n",
       "      <td>923.0</td>\n",
       "      <td>AA</td>\n",
       "      <td>1141</td>\n",
       "      <td>N619AA</td>\n",
       "      <td>160.0</td>\n",
       "      <td>1089</td>\n",
       "      <td>JFK</td>\n",
       "      <td>MIA</td>\n",
       "    </tr>\n",
       "    <tr>\n",
       "      <th>4</th>\n",
       "      <td>544.0</td>\n",
       "      <td>1004.0</td>\n",
       "      <td>B6</td>\n",
       "      <td>725</td>\n",
       "      <td>N804JB</td>\n",
       "      <td>183.0</td>\n",
       "      <td>1576</td>\n",
       "      <td>JFK</td>\n",
       "      <td>BQN</td>\n",
       "    </tr>\n",
       "    <tr>\n",
       "      <th>5</th>\n",
       "      <td>554.0</td>\n",
       "      <td>812.0</td>\n",
       "      <td>DL</td>\n",
       "      <td>461</td>\n",
       "      <td>N668DN</td>\n",
       "      <td>116.0</td>\n",
       "      <td>762</td>\n",
       "      <td>LGA</td>\n",
       "      <td>ATL</td>\n",
       "    </tr>\n",
       "  </tbody>\n",
       "</table>\n",
       "</div>"
      ],
      "text/plain": [
       "  datetime_partida datetime_chegada companhia id_voo id_aeronave tempo_voo  \\\n",
       "1            517.0            830.0        UA   1545      N14228     227.0   \n",
       "2            533.0            850.0        UA   1714      N24211     227.0   \n",
       "3            542.0            923.0        AA   1141      N619AA     160.0   \n",
       "4            544.0           1004.0        B6    725      N804JB     183.0   \n",
       "5            554.0            812.0        DL    461      N668DN     116.0   \n",
       "\n",
       "  distancia origem destino  \n",
       "1      1400    EWR     IAH  \n",
       "2      1416    LGA     IAH  \n",
       "3      1089    JFK     MIA  \n",
       "4      1576    JFK     BQN  \n",
       "5       762    LGA     ATL  "
      ]
     },
     "execution_count": 38,
     "metadata": {},
     "output_type": "execute_result"
    }
   ],
   "source": [
    "df_work = df_raw.copy()\n",
    "df_work.rename(columns=columns_map, inplace=True)\n",
    "df_work.head()"
   ]
  },
  {
   "cell_type": "code",
   "execution_count": 39,
   "metadata": {},
   "outputs": [
    {
     "data": {
      "text/plain": [
       "datetime_partida    object\n",
       "datetime_chegada    object\n",
       "companhia           object\n",
       "id_voo              object\n",
       "id_aeronave         object\n",
       "tempo_voo           object\n",
       "distancia           object\n",
       "origem              object\n",
       "destino             object\n",
       "dtype: object"
      ]
     },
     "execution_count": 39,
     "metadata": {},
     "output_type": "execute_result"
    }
   ],
   "source": [
    "df_work.dtypes"
   ]
  },
  {
   "cell_type": "code",
   "execution_count": 40,
   "metadata": {},
   "outputs": [],
   "source": [
    "df_work[\"tempo_voo\"] = df_work.loc[:,\"tempo_voo\"].astype(float)\n",
    "df_work[\"distancia\"] = df_work.loc[:,\"distancia\"].astype(float)\n",
    "df_work[\"companhia\"] = df_work.loc[:,\"companhia\"].astype(str)\n",
    "df_work[\"id_voo\"] = df_work.loc[:,\"id_voo\"].astype(str)\n",
    "df_work[\"id_aeronave\"] = df_work.loc[:,\"id_aeronave\"].astype(str)\n",
    "df_work[\"datetime_partida\"] = df_work.loc[:,\"datetime_partida\"].astype(str)\n",
    "df_work[\"datetime_chegada\"] = df_work.loc[:,\"datetime_chegada\"].astype(str)\n",
    "df_work[\"origem\"] = df_work.loc[:,\"origem\"].astype(str)\n",
    "df_work[\"destino\"] = df_work.loc[:,\"destino\"].astype(str)"
   ]
  },
  {
   "cell_type": "code",
   "execution_count": 42,
   "metadata": {},
   "outputs": [
    {
     "data": {
      "text/plain": [
       "datetime_partida     object\n",
       "datetime_chegada     object\n",
       "companhia            object\n",
       "id_voo               object\n",
       "id_aeronave          object\n",
       "tempo_voo           float64\n",
       "distancia           float64\n",
       "origem               object\n",
       "destino              object\n",
       "dtype: object"
      ]
     },
     "execution_count": 42,
     "metadata": {},
     "output_type": "execute_result"
    }
   ],
   "source": [
    "df_work.dtypes"
   ]
  },
  {
   "cell_type": "markdown",
   "metadata": {},
   "source": [
    "### Tratamento strings"
   ]
  },
  {
   "cell_type": "code",
   "execution_count": 43,
   "metadata": {},
   "outputs": [],
   "source": [
    "import re\n",
    "\n",
    "def padroniza_str(obs):\n",
    "    return re.sub('[^A-Za-z0-9]+', '', obs.upper())"
   ]
  },
  {
   "cell_type": "code",
   "execution_count": 44,
   "metadata": {},
   "outputs": [
    {
     "data": {
      "text/plain": [
       "'AHSUW3NRRR'"
      ]
     },
     "execution_count": 44,
     "metadata": {},
     "output_type": "execute_result"
    }
   ],
   "source": [
    "padroniza_str(\"ahsuw! @ ++  ~ ç 3n!!rrr\")"
   ]
  },
  {
   "cell_type": "markdown",
   "metadata": {},
   "source": [
    "Guias práticos para regex:\n",
    "- https://medium.com/@tomstaite1/everything-you-need-to-know-about-regular-expressions-regex-3cbc5b95146\n",
    "- https://medium.com/xp-inc/regex-um-guia-pratico-para-express%C3%B5es-regulares-1ac5fa4dd39f"
   ]
  },
  {
   "cell_type": "code",
   "execution_count": 45,
   "metadata": {},
   "outputs": [],
   "source": [
    "df_work[\"companhia_formatted\"] = df_work.loc[:,\"companhia\"].apply(lambda x: padroniza_str(x))\n",
    "df_work[\"id_voo_formatted\"] = df_work.loc[:,\"id_voo\"].apply(lambda x: padroniza_str(x))\n",
    "df_work[\"id_aeronave_formatted\"] = df_work.loc[:,\"id_aeronave\"].apply(lambda x: padroniza_str(x))\n",
    "df_work[\"origem_formatted\"] = df_work.loc[:,\"origem\"].apply(lambda x: padroniza_str(x))\n",
    "df_work[\"destino_formatted\"] = df_work.loc[:,\"destino\"].apply(lambda x: padroniza_str(x))"
   ]
  },
  {
   "cell_type": "code",
   "execution_count": 46,
   "metadata": {},
   "outputs": [
    {
     "data": {
      "text/html": [
       "<div>\n",
       "<style scoped>\n",
       "    .dataframe tbody tr th:only-of-type {\n",
       "        vertical-align: middle;\n",
       "    }\n",
       "\n",
       "    .dataframe tbody tr th {\n",
       "        vertical-align: top;\n",
       "    }\n",
       "\n",
       "    .dataframe thead th {\n",
       "        text-align: right;\n",
       "    }\n",
       "</style>\n",
       "<table border=\"1\" class=\"dataframe\">\n",
       "  <thead>\n",
       "    <tr style=\"text-align: right;\">\n",
       "      <th></th>\n",
       "      <th>datetime_partida</th>\n",
       "      <th>datetime_chegada</th>\n",
       "      <th>companhia</th>\n",
       "      <th>id_voo</th>\n",
       "      <th>id_aeronave</th>\n",
       "      <th>tempo_voo</th>\n",
       "      <th>distancia</th>\n",
       "      <th>origem</th>\n",
       "      <th>destino</th>\n",
       "      <th>companhia_formatted</th>\n",
       "      <th>id_voo_formatted</th>\n",
       "      <th>id_aeronave_formatted</th>\n",
       "      <th>origem_formatted</th>\n",
       "      <th>destino_formatted</th>\n",
       "    </tr>\n",
       "  </thead>\n",
       "  <tbody>\n",
       "    <tr>\n",
       "      <th>1</th>\n",
       "      <td>517.0</td>\n",
       "      <td>830.0</td>\n",
       "      <td>UA</td>\n",
       "      <td>1545</td>\n",
       "      <td>N14228</td>\n",
       "      <td>227.0</td>\n",
       "      <td>1400.0</td>\n",
       "      <td>EWR</td>\n",
       "      <td>IAH</td>\n",
       "      <td>UA</td>\n",
       "      <td>1545</td>\n",
       "      <td>N14228</td>\n",
       "      <td>EWR</td>\n",
       "      <td>IAH</td>\n",
       "    </tr>\n",
       "    <tr>\n",
       "      <th>2</th>\n",
       "      <td>533.0</td>\n",
       "      <td>850.0</td>\n",
       "      <td>UA</td>\n",
       "      <td>1714</td>\n",
       "      <td>N24211</td>\n",
       "      <td>227.0</td>\n",
       "      <td>1416.0</td>\n",
       "      <td>LGA</td>\n",
       "      <td>IAH</td>\n",
       "      <td>UA</td>\n",
       "      <td>1714</td>\n",
       "      <td>N24211</td>\n",
       "      <td>LGA</td>\n",
       "      <td>IAH</td>\n",
       "    </tr>\n",
       "    <tr>\n",
       "      <th>3</th>\n",
       "      <td>542.0</td>\n",
       "      <td>923.0</td>\n",
       "      <td>AA</td>\n",
       "      <td>1141</td>\n",
       "      <td>N619AA</td>\n",
       "      <td>160.0</td>\n",
       "      <td>1089.0</td>\n",
       "      <td>JFK</td>\n",
       "      <td>MIA</td>\n",
       "      <td>AA</td>\n",
       "      <td>1141</td>\n",
       "      <td>N619AA</td>\n",
       "      <td>JFK</td>\n",
       "      <td>MIA</td>\n",
       "    </tr>\n",
       "    <tr>\n",
       "      <th>4</th>\n",
       "      <td>544.0</td>\n",
       "      <td>1004.0</td>\n",
       "      <td>B6</td>\n",
       "      <td>725</td>\n",
       "      <td>N804JB</td>\n",
       "      <td>183.0</td>\n",
       "      <td>1576.0</td>\n",
       "      <td>JFK</td>\n",
       "      <td>BQN</td>\n",
       "      <td>B6</td>\n",
       "      <td>725</td>\n",
       "      <td>N804JB</td>\n",
       "      <td>JFK</td>\n",
       "      <td>BQN</td>\n",
       "    </tr>\n",
       "    <tr>\n",
       "      <th>5</th>\n",
       "      <td>554.0</td>\n",
       "      <td>812.0</td>\n",
       "      <td>DL</td>\n",
       "      <td>461</td>\n",
       "      <td>N668DN</td>\n",
       "      <td>116.0</td>\n",
       "      <td>762.0</td>\n",
       "      <td>LGA</td>\n",
       "      <td>ATL</td>\n",
       "      <td>DL</td>\n",
       "      <td>461</td>\n",
       "      <td>N668DN</td>\n",
       "      <td>LGA</td>\n",
       "      <td>ATL</td>\n",
       "    </tr>\n",
       "  </tbody>\n",
       "</table>\n",
       "</div>"
      ],
      "text/plain": [
       "  datetime_partida datetime_chegada companhia id_voo id_aeronave  tempo_voo  \\\n",
       "1            517.0            830.0        UA   1545      N14228      227.0   \n",
       "2            533.0            850.0        UA   1714      N24211      227.0   \n",
       "3            542.0            923.0        AA   1141      N619AA      160.0   \n",
       "4            544.0           1004.0        B6    725      N804JB      183.0   \n",
       "5            554.0            812.0        DL    461      N668DN      116.0   \n",
       "\n",
       "   distancia origem destino companhia_formatted id_voo_formatted  \\\n",
       "1     1400.0    EWR     IAH                  UA             1545   \n",
       "2     1416.0    LGA     IAH                  UA             1714   \n",
       "3     1089.0    JFK     MIA                  AA             1141   \n",
       "4     1576.0    JFK     BQN                  B6              725   \n",
       "5      762.0    LGA     ATL                  DL              461   \n",
       "\n",
       "  id_aeronave_formatted origem_formatted destino_formatted  \n",
       "1                N14228              EWR               IAH  \n",
       "2                N24211              LGA               IAH  \n",
       "3                N619AA              JFK               MIA  \n",
       "4                N804JB              JFK               BQN  \n",
       "5                N668DN              LGA               ATL  "
      ]
     },
     "execution_count": 46,
     "metadata": {},
     "output_type": "execute_result"
    }
   ],
   "source": [
    "df_work.head()"
   ]
  },
  {
   "cell_type": "markdown",
   "metadata": {},
   "source": [
    "### Tratamentos especiais\n",
    "Neste caso, vamos realizar tratamento das horas"
   ]
  },
  {
   "cell_type": "code",
   "execution_count": 47,
   "metadata": {},
   "outputs": [],
   "source": [
    "df_work.loc[:,\"datetime_partida\"] = df_work.loc[:,\"datetime_partida\"].str.replace('.0', '')\n",
    "df_work.loc[:,\"datetime_chegada\"] = df_work.loc[:,\"datetime_chegada\"].str.replace('.0', '')\n",
    "df_work[\"data_voo\"] = pd.to_datetime(df[['year', 'month', 'day']]) "
   ]
  },
  {
   "cell_type": "code",
   "execution_count": 48,
   "metadata": {},
   "outputs": [
    {
     "data": {
      "text/plain": [
       "array([3, 4, 2, 1], dtype=int64)"
      ]
     },
     "execution_count": 48,
     "metadata": {},
     "output_type": "execute_result"
    }
   ],
   "source": [
    "df_work[\"datetime_partida\"].apply(lambda x: len(x)).unique()"
   ]
  },
  {
   "cell_type": "code",
   "execution_count": 49,
   "metadata": {},
   "outputs": [],
   "source": [
    "def corrige_hora(hr_str,dct_hora = {1:\"000?\",2:\"00?\",3:\"0?\",4:\"?\"}):\n",
    "    if hr_str == \"2400\":\n",
    "        return \"00:00\"\n",
    "    elif (len(hr_str) == 2) & (int(hr_str) <= 12):\n",
    "        return f\"0{hr_str[0]}:{hr_str[1]}0\"\n",
    "    else:\n",
    "        hora = dct_hora[len(hr_str)].replace(\"?\", hr_str)\n",
    "        return f\"{hora[:2]}:{hora[2:]}\""
   ]
  },
  {
   "cell_type": "code",
   "execution_count": 50,
   "metadata": {},
   "outputs": [],
   "source": [
    "datetime_partida2 = df_work.loc[:,\"datetime_partida\"].apply(lambda x: corrige_hora(x))\n",
    "datetime_chegada2 = df_work.loc[:,\"datetime_chegada\"].apply(lambda x: corrige_hora(x))"
   ]
  },
  {
   "cell_type": "code",
   "execution_count": 51,
   "metadata": {},
   "outputs": [
    {
     "data": {
      "text/plain": [
       "1         05:17\n",
       "2         05:33\n",
       "3         05:42\n",
       "4         05:44\n",
       "5         05:54\n",
       "          ...  \n",
       "336766    22:40\n",
       "336767    22:40\n",
       "336768    22:41\n",
       "336769    23:07\n",
       "336770    23:49\n",
       "Name: datetime_partida, Length: 328038, dtype: object"
      ]
     },
     "execution_count": 51,
     "metadata": {},
     "output_type": "execute_result"
    }
   ],
   "source": [
    "datetime_partida2"
   ]
  },
  {
   "cell_type": "code",
   "execution_count": 52,
   "metadata": {},
   "outputs": [
    {
     "data": {
      "text/plain": [
       "1        2013-01-01 05:17:00\n",
       "2        2013-01-01 05:33:00\n",
       "3        2013-01-01 05:42:00\n",
       "4        2013-01-01 05:44:00\n",
       "5        2013-01-01 05:54:00\n",
       "                 ...        \n",
       "336766   2013-09-30 22:40:00\n",
       "336767   2013-09-30 22:40:00\n",
       "336768   2013-09-30 22:41:00\n",
       "336769   2013-09-30 23:07:00\n",
       "336770   2013-09-30 23:49:00\n",
       "Length: 328038, dtype: datetime64[ns]"
      ]
     },
     "execution_count": 52,
     "metadata": {},
     "output_type": "execute_result"
    }
   ],
   "source": [
    "pd.to_datetime(df_work.loc[:,'data_voo'].astype(str) + \" \" + datetime_partida2)"
   ]
  },
  {
   "cell_type": "code",
   "execution_count": 53,
   "metadata": {},
   "outputs": [],
   "source": [
    "df_work['datetime_partida_formatted'] = pd.to_datetime(df_work.loc[:,'data_voo'].astype(str) + \" \" + datetime_partida2)\n",
    "df_work['datetime_chegada_formatted'] = pd.to_datetime(df_work.loc[:,'data_voo'].astype(str) + \" \" + datetime_chegada2)"
   ]
  },
  {
   "cell_type": "code",
   "execution_count": 54,
   "metadata": {},
   "outputs": [
    {
     "data": {
      "text/html": [
       "<div>\n",
       "<style scoped>\n",
       "    .dataframe tbody tr th:only-of-type {\n",
       "        vertical-align: middle;\n",
       "    }\n",
       "\n",
       "    .dataframe tbody tr th {\n",
       "        vertical-align: top;\n",
       "    }\n",
       "\n",
       "    .dataframe thead th {\n",
       "        text-align: right;\n",
       "    }\n",
       "</style>\n",
       "<table border=\"1\" class=\"dataframe\">\n",
       "  <thead>\n",
       "    <tr style=\"text-align: right;\">\n",
       "      <th></th>\n",
       "      <th>datetime_partida</th>\n",
       "      <th>datetime_chegada</th>\n",
       "      <th>companhia</th>\n",
       "      <th>id_voo</th>\n",
       "      <th>id_aeronave</th>\n",
       "      <th>tempo_voo</th>\n",
       "      <th>distancia</th>\n",
       "      <th>origem</th>\n",
       "      <th>destino</th>\n",
       "      <th>companhia_formatted</th>\n",
       "      <th>id_voo_formatted</th>\n",
       "      <th>id_aeronave_formatted</th>\n",
       "      <th>origem_formatted</th>\n",
       "      <th>destino_formatted</th>\n",
       "      <th>data_voo</th>\n",
       "      <th>datetime_partida_formatted</th>\n",
       "      <th>datetime_chegada_formatted</th>\n",
       "    </tr>\n",
       "  </thead>\n",
       "  <tbody>\n",
       "    <tr>\n",
       "      <th>1</th>\n",
       "      <td>517</td>\n",
       "      <td>830</td>\n",
       "      <td>UA</td>\n",
       "      <td>1545</td>\n",
       "      <td>N14228</td>\n",
       "      <td>227.0</td>\n",
       "      <td>1400.0</td>\n",
       "      <td>EWR</td>\n",
       "      <td>IAH</td>\n",
       "      <td>UA</td>\n",
       "      <td>1545</td>\n",
       "      <td>N14228</td>\n",
       "      <td>EWR</td>\n",
       "      <td>IAH</td>\n",
       "      <td>2013-01-01</td>\n",
       "      <td>2013-01-01 05:17:00</td>\n",
       "      <td>2013-01-01 08:30:00</td>\n",
       "    </tr>\n",
       "    <tr>\n",
       "      <th>2</th>\n",
       "      <td>533</td>\n",
       "      <td>850</td>\n",
       "      <td>UA</td>\n",
       "      <td>1714</td>\n",
       "      <td>N24211</td>\n",
       "      <td>227.0</td>\n",
       "      <td>1416.0</td>\n",
       "      <td>LGA</td>\n",
       "      <td>IAH</td>\n",
       "      <td>UA</td>\n",
       "      <td>1714</td>\n",
       "      <td>N24211</td>\n",
       "      <td>LGA</td>\n",
       "      <td>IAH</td>\n",
       "      <td>2013-01-01</td>\n",
       "      <td>2013-01-01 05:33:00</td>\n",
       "      <td>2013-01-01 08:50:00</td>\n",
       "    </tr>\n",
       "    <tr>\n",
       "      <th>3</th>\n",
       "      <td>542</td>\n",
       "      <td>923</td>\n",
       "      <td>AA</td>\n",
       "      <td>1141</td>\n",
       "      <td>N619AA</td>\n",
       "      <td>160.0</td>\n",
       "      <td>1089.0</td>\n",
       "      <td>JFK</td>\n",
       "      <td>MIA</td>\n",
       "      <td>AA</td>\n",
       "      <td>1141</td>\n",
       "      <td>N619AA</td>\n",
       "      <td>JFK</td>\n",
       "      <td>MIA</td>\n",
       "      <td>2013-01-01</td>\n",
       "      <td>2013-01-01 05:42:00</td>\n",
       "      <td>2013-01-01 09:23:00</td>\n",
       "    </tr>\n",
       "    <tr>\n",
       "      <th>4</th>\n",
       "      <td>544</td>\n",
       "      <td>1004</td>\n",
       "      <td>B6</td>\n",
       "      <td>725</td>\n",
       "      <td>N804JB</td>\n",
       "      <td>183.0</td>\n",
       "      <td>1576.0</td>\n",
       "      <td>JFK</td>\n",
       "      <td>BQN</td>\n",
       "      <td>B6</td>\n",
       "      <td>725</td>\n",
       "      <td>N804JB</td>\n",
       "      <td>JFK</td>\n",
       "      <td>BQN</td>\n",
       "      <td>2013-01-01</td>\n",
       "      <td>2013-01-01 05:44:00</td>\n",
       "      <td>2013-01-01 10:04:00</td>\n",
       "    </tr>\n",
       "    <tr>\n",
       "      <th>5</th>\n",
       "      <td>554</td>\n",
       "      <td>812</td>\n",
       "      <td>DL</td>\n",
       "      <td>461</td>\n",
       "      <td>N668DN</td>\n",
       "      <td>116.0</td>\n",
       "      <td>762.0</td>\n",
       "      <td>LGA</td>\n",
       "      <td>ATL</td>\n",
       "      <td>DL</td>\n",
       "      <td>461</td>\n",
       "      <td>N668DN</td>\n",
       "      <td>LGA</td>\n",
       "      <td>ATL</td>\n",
       "      <td>2013-01-01</td>\n",
       "      <td>2013-01-01 05:54:00</td>\n",
       "      <td>2013-01-01 08:12:00</td>\n",
       "    </tr>\n",
       "  </tbody>\n",
       "</table>\n",
       "</div>"
      ],
      "text/plain": [
       "  datetime_partida datetime_chegada companhia id_voo id_aeronave  tempo_voo  \\\n",
       "1              517              830        UA   1545      N14228      227.0   \n",
       "2              533              850        UA   1714      N24211      227.0   \n",
       "3              542              923        AA   1141      N619AA      160.0   \n",
       "4              544             1004        B6    725      N804JB      183.0   \n",
       "5              554              812        DL    461      N668DN      116.0   \n",
       "\n",
       "   distancia origem destino companhia_formatted id_voo_formatted  \\\n",
       "1     1400.0    EWR     IAH                  UA             1545   \n",
       "2     1416.0    LGA     IAH                  UA             1714   \n",
       "3     1089.0    JFK     MIA                  AA             1141   \n",
       "4     1576.0    JFK     BQN                  B6              725   \n",
       "5      762.0    LGA     ATL                  DL              461   \n",
       "\n",
       "  id_aeronave_formatted origem_formatted destino_formatted   data_voo  \\\n",
       "1                N14228              EWR               IAH 2013-01-01   \n",
       "2                N24211              LGA               IAH 2013-01-01   \n",
       "3                N619AA              JFK               MIA 2013-01-01   \n",
       "4                N804JB              JFK               BQN 2013-01-01   \n",
       "5                N668DN              LGA               ATL 2013-01-01   \n",
       "\n",
       "  datetime_partida_formatted datetime_chegada_formatted  \n",
       "1        2013-01-01 05:17:00        2013-01-01 08:30:00  \n",
       "2        2013-01-01 05:33:00        2013-01-01 08:50:00  \n",
       "3        2013-01-01 05:42:00        2013-01-01 09:23:00  \n",
       "4        2013-01-01 05:44:00        2013-01-01 10:04:00  \n",
       "5        2013-01-01 05:54:00        2013-01-01 08:12:00  "
      ]
     },
     "execution_count": 54,
     "metadata": {},
     "output_type": "execute_result"
    }
   ],
   "source": [
    "df_work.head()"
   ]
  },
  {
   "cell_type": "code",
   "execution_count": 55,
   "metadata": {},
   "outputs": [],
   "source": [
    "df_work[\"datetime_chegada_formatted\"] = np.where(\n",
    "    df_work[\"datetime_partida_formatted\"] > df_work[\"datetime_chegada_formatted\"],\n",
    "    df_work[\"datetime_chegada_formatted\"] + pd.Timedelta(days=1),\n",
    "    df_work[\"datetime_chegada_formatted\"]\n",
    "    )"
   ]
  },
  {
   "cell_type": "code",
   "execution_count": 56,
   "metadata": {},
   "outputs": [
    {
     "data": {
      "text/html": [
       "<div>\n",
       "<style scoped>\n",
       "    .dataframe tbody tr th:only-of-type {\n",
       "        vertical-align: middle;\n",
       "    }\n",
       "\n",
       "    .dataframe tbody tr th {\n",
       "        vertical-align: top;\n",
       "    }\n",
       "\n",
       "    .dataframe thead th {\n",
       "        text-align: right;\n",
       "    }\n",
       "</style>\n",
       "<table border=\"1\" class=\"dataframe\">\n",
       "  <thead>\n",
       "    <tr style=\"text-align: right;\">\n",
       "      <th></th>\n",
       "      <th>datetime_partida</th>\n",
       "      <th>datetime_chegada</th>\n",
       "      <th>companhia</th>\n",
       "      <th>id_voo</th>\n",
       "      <th>id_aeronave</th>\n",
       "      <th>tempo_voo</th>\n",
       "      <th>distancia</th>\n",
       "      <th>origem</th>\n",
       "      <th>destino</th>\n",
       "      <th>companhia_formatted</th>\n",
       "      <th>id_voo_formatted</th>\n",
       "      <th>id_aeronave_formatted</th>\n",
       "      <th>origem_formatted</th>\n",
       "      <th>destino_formatted</th>\n",
       "      <th>data_voo</th>\n",
       "      <th>datetime_partida_formatted</th>\n",
       "      <th>datetime_chegada_formatted</th>\n",
       "    </tr>\n",
       "  </thead>\n",
       "  <tbody>\n",
       "  </tbody>\n",
       "</table>\n",
       "</div>"
      ],
      "text/plain": [
       "Empty DataFrame\n",
       "Columns: [datetime_partida, datetime_chegada, companhia, id_voo, id_aeronave, tempo_voo, distancia, origem, destino, companhia_formatted, id_voo_formatted, id_aeronave_formatted, origem_formatted, destino_formatted, data_voo, datetime_partida_formatted, datetime_chegada_formatted]\n",
       "Index: []"
      ]
     },
     "execution_count": 56,
     "metadata": {},
     "output_type": "execute_result"
    }
   ],
   "source": [
    "df_work.loc[df_work[\"datetime_partida_formatted\"] > df_work[\"datetime_chegada_formatted\"]]"
   ]
  },
  {
   "cell_type": "code",
   "execution_count": 57,
   "metadata": {},
   "outputs": [],
   "source": [
    "df_dw = df_work[[\"data_voo\",\n",
    "         \"companhia_formatted\",\n",
    "         \"id_voo_formatted\",\n",
    "         \"id_aeronave_formatted\",\n",
    "         \"datetime_partida_formatted\",\n",
    "         \"datetime_chegada_formatted\",\n",
    "         \"origem_formatted\",\n",
    "         \"destino_formatted\",\n",
    "         \"tempo_voo\",\n",
    "         \"distancia\"]].copy()"
   ]
  },
  {
   "cell_type": "markdown",
   "metadata": {},
   "source": [
    "## Engenharia de Features"
   ]
  },
  {
   "cell_type": "markdown",
   "metadata": {},
   "source": [
    "- tempo_voo_esperado\n",
    "- tempo_voo_hr\n",
    "- atraso (em horas)\n",
    "- flg_status\n",
    "- dia_semana\n",
    "- horario"
   ]
  },
  {
   "cell_type": "code",
   "execution_count": 58,
   "metadata": {},
   "outputs": [],
   "source": [
    "df_dw[\"tempo_voo_esperado\"] = (df_dw[\"datetime_chegada_formatted\"] - df_dw[\"datetime_partida_formatted\"]) / pd.Timedelta(hours=1)\n",
    "df_dw[\"tempo_voo_hr\"] = df_dw[\"tempo_voo\"] /60\n",
    "df_dw[\"atraso\"] = df_dw[\"tempo_voo_hr\"] - df_dw[\"tempo_voo_esperado\"]\n",
    "df_dw[\"dia_semana\"] = df_dw[\"data_voo\"].dt.day_of_week #0=segunda"
   ]
  },
  {
   "cell_type": "code",
   "execution_count": 59,
   "metadata": {},
   "outputs": [],
   "source": [
    "def classifica_hora(hra):\n",
    "    if 0 <= hra < 6: return \"MADRUGADA\"\n",
    "    elif 6 <= hra < 12: return \"MANHA\"\n",
    "    elif 12 <= hra < 18: return \"TARDE\"\n",
    "    else: return \"NOITE\""
   ]
  },
  {
   "cell_type": "code",
   "execution_count": 60,
   "metadata": {},
   "outputs": [],
   "source": [
    "df_dw[\"horario\"] = df_work.loc[:,\"datetime_partida_formatted\"].dt.hour.apply(lambda x: classifica_hora(x))"
   ]
  },
  {
   "cell_type": "code",
   "execution_count": 61,
   "metadata": {},
   "outputs": [
    {
     "data": {
      "text/plain": [
       "1         MADRUGADA\n",
       "2         MADRUGADA\n",
       "3         MADRUGADA\n",
       "4         MADRUGADA\n",
       "5         MADRUGADA\n",
       "            ...    \n",
       "336766        NOITE\n",
       "336767        NOITE\n",
       "336768        NOITE\n",
       "336769        NOITE\n",
       "336770        NOITE\n",
       "Name: datetime_partida_formatted, Length: 328038, dtype: object"
      ]
     },
     "execution_count": 61,
     "metadata": {},
     "output_type": "execute_result"
    }
   ],
   "source": [
    "df_work.loc[:,\"datetime_partida_formatted\"].dt.hour.apply(lambda x: classifica_hora(x))"
   ]
  },
  {
   "cell_type": "code",
   "execution_count": 62,
   "metadata": {},
   "outputs": [
    {
     "data": {
      "text/html": [
       "<div>\n",
       "<style scoped>\n",
       "    .dataframe tbody tr th:only-of-type {\n",
       "        vertical-align: middle;\n",
       "    }\n",
       "\n",
       "    .dataframe tbody tr th {\n",
       "        vertical-align: top;\n",
       "    }\n",
       "\n",
       "    .dataframe thead th {\n",
       "        text-align: right;\n",
       "    }\n",
       "</style>\n",
       "<table border=\"1\" class=\"dataframe\">\n",
       "  <thead>\n",
       "    <tr style=\"text-align: right;\">\n",
       "      <th></th>\n",
       "      <th>data_voo</th>\n",
       "      <th>companhia_formatted</th>\n",
       "      <th>id_voo_formatted</th>\n",
       "      <th>id_aeronave_formatted</th>\n",
       "      <th>datetime_partida_formatted</th>\n",
       "      <th>datetime_chegada_formatted</th>\n",
       "      <th>origem_formatted</th>\n",
       "      <th>destino_formatted</th>\n",
       "      <th>tempo_voo</th>\n",
       "      <th>distancia</th>\n",
       "      <th>tempo_voo_esperado</th>\n",
       "      <th>tempo_voo_hr</th>\n",
       "      <th>atraso</th>\n",
       "      <th>dia_semana</th>\n",
       "      <th>horario</th>\n",
       "    </tr>\n",
       "  </thead>\n",
       "  <tbody>\n",
       "    <tr>\n",
       "      <th>1</th>\n",
       "      <td>2013-01-01</td>\n",
       "      <td>UA</td>\n",
       "      <td>1545</td>\n",
       "      <td>N14228</td>\n",
       "      <td>2013-01-01 05:17:00</td>\n",
       "      <td>2013-01-01 08:30:00</td>\n",
       "      <td>EWR</td>\n",
       "      <td>IAH</td>\n",
       "      <td>227.0</td>\n",
       "      <td>1400.0</td>\n",
       "      <td>3.216667</td>\n",
       "      <td>3.783333</td>\n",
       "      <td>0.566667</td>\n",
       "      <td>1</td>\n",
       "      <td>MADRUGADA</td>\n",
       "    </tr>\n",
       "    <tr>\n",
       "      <th>2</th>\n",
       "      <td>2013-01-01</td>\n",
       "      <td>UA</td>\n",
       "      <td>1714</td>\n",
       "      <td>N24211</td>\n",
       "      <td>2013-01-01 05:33:00</td>\n",
       "      <td>2013-01-01 08:50:00</td>\n",
       "      <td>LGA</td>\n",
       "      <td>IAH</td>\n",
       "      <td>227.0</td>\n",
       "      <td>1416.0</td>\n",
       "      <td>3.283333</td>\n",
       "      <td>3.783333</td>\n",
       "      <td>0.500000</td>\n",
       "      <td>1</td>\n",
       "      <td>MADRUGADA</td>\n",
       "    </tr>\n",
       "    <tr>\n",
       "      <th>3</th>\n",
       "      <td>2013-01-01</td>\n",
       "      <td>AA</td>\n",
       "      <td>1141</td>\n",
       "      <td>N619AA</td>\n",
       "      <td>2013-01-01 05:42:00</td>\n",
       "      <td>2013-01-01 09:23:00</td>\n",
       "      <td>JFK</td>\n",
       "      <td>MIA</td>\n",
       "      <td>160.0</td>\n",
       "      <td>1089.0</td>\n",
       "      <td>3.683333</td>\n",
       "      <td>2.666667</td>\n",
       "      <td>-1.016667</td>\n",
       "      <td>1</td>\n",
       "      <td>MADRUGADA</td>\n",
       "    </tr>\n",
       "    <tr>\n",
       "      <th>4</th>\n",
       "      <td>2013-01-01</td>\n",
       "      <td>B6</td>\n",
       "      <td>725</td>\n",
       "      <td>N804JB</td>\n",
       "      <td>2013-01-01 05:44:00</td>\n",
       "      <td>2013-01-01 10:04:00</td>\n",
       "      <td>JFK</td>\n",
       "      <td>BQN</td>\n",
       "      <td>183.0</td>\n",
       "      <td>1576.0</td>\n",
       "      <td>4.333333</td>\n",
       "      <td>3.050000</td>\n",
       "      <td>-1.283333</td>\n",
       "      <td>1</td>\n",
       "      <td>MADRUGADA</td>\n",
       "    </tr>\n",
       "    <tr>\n",
       "      <th>5</th>\n",
       "      <td>2013-01-01</td>\n",
       "      <td>DL</td>\n",
       "      <td>461</td>\n",
       "      <td>N668DN</td>\n",
       "      <td>2013-01-01 05:54:00</td>\n",
       "      <td>2013-01-01 08:12:00</td>\n",
       "      <td>LGA</td>\n",
       "      <td>ATL</td>\n",
       "      <td>116.0</td>\n",
       "      <td>762.0</td>\n",
       "      <td>2.300000</td>\n",
       "      <td>1.933333</td>\n",
       "      <td>-0.366667</td>\n",
       "      <td>1</td>\n",
       "      <td>MADRUGADA</td>\n",
       "    </tr>\n",
       "  </tbody>\n",
       "</table>\n",
       "</div>"
      ],
      "text/plain": [
       "    data_voo companhia_formatted id_voo_formatted id_aeronave_formatted  \\\n",
       "1 2013-01-01                  UA             1545                N14228   \n",
       "2 2013-01-01                  UA             1714                N24211   \n",
       "3 2013-01-01                  AA             1141                N619AA   \n",
       "4 2013-01-01                  B6              725                N804JB   \n",
       "5 2013-01-01                  DL              461                N668DN   \n",
       "\n",
       "  datetime_partida_formatted datetime_chegada_formatted origem_formatted  \\\n",
       "1        2013-01-01 05:17:00        2013-01-01 08:30:00              EWR   \n",
       "2        2013-01-01 05:33:00        2013-01-01 08:50:00              LGA   \n",
       "3        2013-01-01 05:42:00        2013-01-01 09:23:00              JFK   \n",
       "4        2013-01-01 05:44:00        2013-01-01 10:04:00              JFK   \n",
       "5        2013-01-01 05:54:00        2013-01-01 08:12:00              LGA   \n",
       "\n",
       "  destino_formatted  tempo_voo  distancia  tempo_voo_esperado  tempo_voo_hr  \\\n",
       "1               IAH      227.0     1400.0            3.216667      3.783333   \n",
       "2               IAH      227.0     1416.0            3.283333      3.783333   \n",
       "3               MIA      160.0     1089.0            3.683333      2.666667   \n",
       "4               BQN      183.0     1576.0            4.333333      3.050000   \n",
       "5               ATL      116.0      762.0            2.300000      1.933333   \n",
       "\n",
       "     atraso  dia_semana    horario  \n",
       "1  0.566667           1  MADRUGADA  \n",
       "2  0.500000           1  MADRUGADA  \n",
       "3 -1.016667           1  MADRUGADA  \n",
       "4 -1.283333           1  MADRUGADA  \n",
       "5 -0.366667           1  MADRUGADA  "
      ]
     },
     "execution_count": 62,
     "metadata": {},
     "output_type": "execute_result"
    }
   ],
   "source": [
    "df_dw.head()"
   ]
  },
  {
   "cell_type": "code",
   "execution_count": 63,
   "metadata": {},
   "outputs": [
    {
     "name": "stdout",
     "output_type": "stream",
     "text": [
      "447 0\n"
     ]
    }
   ],
   "source": [
    "print(\n",
    "    len(df_dw[df_dw[\"atraso\"] > 5]),\n",
    "    len(df_dw[df_dw[\"atraso\"] > 6])\n",
    "    )"
   ]
  },
  {
   "cell_type": "code",
   "execution_count": 66,
   "metadata": {},
   "outputs": [
    {
     "data": {
      "text/html": [
       "<div>\n",
       "<style scoped>\n",
       "    .dataframe tbody tr th:only-of-type {\n",
       "        vertical-align: middle;\n",
       "    }\n",
       "\n",
       "    .dataframe tbody tr th {\n",
       "        vertical-align: top;\n",
       "    }\n",
       "\n",
       "    .dataframe thead th {\n",
       "        text-align: right;\n",
       "    }\n",
       "</style>\n",
       "<table border=\"1\" class=\"dataframe\">\n",
       "  <thead>\n",
       "    <tr style=\"text-align: right;\">\n",
       "      <th></th>\n",
       "      <th>data_voo</th>\n",
       "      <th>datetime_partida_formatted</th>\n",
       "      <th>datetime_chegada_formatted</th>\n",
       "      <th>tempo_voo</th>\n",
       "      <th>distancia</th>\n",
       "      <th>tempo_voo_esperado</th>\n",
       "      <th>tempo_voo_hr</th>\n",
       "      <th>atraso</th>\n",
       "      <th>dia_semana</th>\n",
       "    </tr>\n",
       "  </thead>\n",
       "  <tbody>\n",
       "    <tr>\n",
       "      <th>count</th>\n",
       "      <td>316605</td>\n",
       "      <td>316605</td>\n",
       "      <td>316605</td>\n",
       "      <td>316605.000000</td>\n",
       "      <td>316605.000000</td>\n",
       "      <td>316605.000000</td>\n",
       "      <td>316605.000000</td>\n",
       "      <td>316605.000000</td>\n",
       "      <td>316605.000000</td>\n",
       "    </tr>\n",
       "    <tr>\n",
       "      <th>mean</th>\n",
       "      <td>2013-07-03 06:18:01.142748416</td>\n",
       "      <td>2013-07-03 19:57:24.733027328</td>\n",
       "      <td>2013-07-03 22:12:32.416355072</td>\n",
       "      <td>151.593613</td>\n",
       "      <td>1053.883666</td>\n",
       "      <td>2.252134</td>\n",
       "      <td>2.526560</td>\n",
       "      <td>0.274426</td>\n",
       "      <td>2.897500</td>\n",
       "    </tr>\n",
       "    <tr>\n",
       "      <th>min</th>\n",
       "      <td>2013-01-01 00:00:00</td>\n",
       "      <td>2013-01-01 05:17:00</td>\n",
       "      <td>2013-01-01 07:02:00</td>\n",
       "      <td>20.000000</td>\n",
       "      <td>80.000000</td>\n",
       "      <td>0.000000</td>\n",
       "      <td>0.333333</td>\n",
       "      <td>-1.000000</td>\n",
       "      <td>0.000000</td>\n",
       "    </tr>\n",
       "    <tr>\n",
       "      <th>25%</th>\n",
       "      <td>2013-04-04 00:00:00</td>\n",
       "      <td>2013-04-04 21:23:00</td>\n",
       "      <td>2013-04-05 00:05:00</td>\n",
       "      <td>83.000000</td>\n",
       "      <td>509.000000</td>\n",
       "      <td>1.566667</td>\n",
       "      <td>1.383333</td>\n",
       "      <td>-0.483333</td>\n",
       "      <td>1.000000</td>\n",
       "    </tr>\n",
       "    <tr>\n",
       "      <th>50%</th>\n",
       "      <td>2013-07-04 00:00:00</td>\n",
       "      <td>2013-07-04 12:37:00</td>\n",
       "      <td>2013-07-04 14:14:00</td>\n",
       "      <td>130.000000</td>\n",
       "      <td>888.000000</td>\n",
       "      <td>2.266667</td>\n",
       "      <td>2.166667</td>\n",
       "      <td>-0.316667</td>\n",
       "      <td>3.000000</td>\n",
       "    </tr>\n",
       "    <tr>\n",
       "      <th>75%</th>\n",
       "      <td>2013-10-01 00:00:00</td>\n",
       "      <td>2013-10-01 21:23:00</td>\n",
       "      <td>2013-10-01 23:19:00</td>\n",
       "      <td>193.000000</td>\n",
       "      <td>1389.000000</td>\n",
       "      <td>2.866667</td>\n",
       "      <td>3.216667</td>\n",
       "      <td>0.650000</td>\n",
       "      <td>5.000000</td>\n",
       "    </tr>\n",
       "    <tr>\n",
       "      <th>max</th>\n",
       "      <td>2013-12-31 00:00:00</td>\n",
       "      <td>2013-12-31 23:32:00</td>\n",
       "      <td>2014-01-01 01:20:00</td>\n",
       "      <td>695.000000</td>\n",
       "      <td>4983.000000</td>\n",
       "      <td>7.300000</td>\n",
       "      <td>11.583333</td>\n",
       "      <td>5.750000</td>\n",
       "      <td>6.000000</td>\n",
       "    </tr>\n",
       "    <tr>\n",
       "      <th>std</th>\n",
       "      <td>NaN</td>\n",
       "      <td>NaN</td>\n",
       "      <td>NaN</td>\n",
       "      <td>94.564364</td>\n",
       "      <td>741.673085</td>\n",
       "      <td>0.799171</td>\n",
       "      <td>1.576073</td>\n",
       "      <td>1.104304</td>\n",
       "      <td>1.990489</td>\n",
       "    </tr>\n",
       "  </tbody>\n",
       "</table>\n",
       "</div>"
      ],
      "text/plain": [
       "                            data_voo     datetime_partida_formatted  \\\n",
       "count                         316605                         316605   \n",
       "mean   2013-07-03 06:18:01.142748416  2013-07-03 19:57:24.733027328   \n",
       "min              2013-01-01 00:00:00            2013-01-01 05:17:00   \n",
       "25%              2013-04-04 00:00:00            2013-04-04 21:23:00   \n",
       "50%              2013-07-04 00:00:00            2013-07-04 12:37:00   \n",
       "75%              2013-10-01 00:00:00            2013-10-01 21:23:00   \n",
       "max              2013-12-31 00:00:00            2013-12-31 23:32:00   \n",
       "std                              NaN                            NaN   \n",
       "\n",
       "          datetime_chegada_formatted      tempo_voo      distancia  \\\n",
       "count                         316605  316605.000000  316605.000000   \n",
       "mean   2013-07-03 22:12:32.416355072     151.593613    1053.883666   \n",
       "min              2013-01-01 07:02:00      20.000000      80.000000   \n",
       "25%              2013-04-05 00:05:00      83.000000     509.000000   \n",
       "50%              2013-07-04 14:14:00     130.000000     888.000000   \n",
       "75%              2013-10-01 23:19:00     193.000000    1389.000000   \n",
       "max              2014-01-01 01:20:00     695.000000    4983.000000   \n",
       "std                              NaN      94.564364     741.673085   \n",
       "\n",
       "       tempo_voo_esperado   tempo_voo_hr         atraso     dia_semana  \n",
       "count       316605.000000  316605.000000  316605.000000  316605.000000  \n",
       "mean             2.252134       2.526560       0.274426       2.897500  \n",
       "min              0.000000       0.333333      -1.000000       0.000000  \n",
       "25%              1.566667       1.383333      -0.483333       1.000000  \n",
       "50%              2.266667       2.166667      -0.316667       3.000000  \n",
       "75%              2.866667       3.216667       0.650000       5.000000  \n",
       "max              7.300000      11.583333       5.750000       6.000000  \n",
       "std              0.799171       1.576073       1.104304       1.990489  "
      ]
     },
     "execution_count": 66,
     "metadata": {},
     "output_type": "execute_result"
    }
   ],
   "source": [
    "df_dw[df_dw[\"atraso\"]>-1].describe()"
   ]
  },
  {
   "cell_type": "code",
   "execution_count": 67,
   "metadata": {},
   "outputs": [],
   "source": [
    "df_filtrada = df_dw[df_dw[\"atraso\"]>-1].copy()"
   ]
  },
  {
   "cell_type": "code",
   "execution_count": 68,
   "metadata": {},
   "outputs": [],
   "source": [
    "def flg_status(atraso):\n",
    "    if atraso > 0.5 : return \"ATRASO\"\n",
    "    else: return \"ONTIME\""
   ]
  },
  {
   "cell_type": "code",
   "execution_count": 69,
   "metadata": {},
   "outputs": [],
   "source": [
    "df_filtrada[\"flg_status\"] = df_filtrada.loc[:,\"atraso\"].apply(lambda x: flg_status(x))"
   ]
  },
  {
   "cell_type": "code",
   "execution_count": 70,
   "metadata": {},
   "outputs": [
    {
     "data": {
      "text/plain": [
       "flg_status\n",
       "ONTIME    214480\n",
       "ATRASO    102125\n",
       "Name: count, dtype: int64"
      ]
     },
     "execution_count": 70,
     "metadata": {},
     "output_type": "execute_result"
    }
   ],
   "source": [
    "df_filtrada[\"flg_status\"].value_counts()"
   ]
  },
  {
   "cell_type": "code",
   "execution_count": 71,
   "metadata": {},
   "outputs": [],
   "source": [
    "df_filtrada.to_csv(\"nycflights_tratada.csv\", index=False)"
   ]
  },
  {
   "cell_type": "markdown",
   "metadata": {},
   "source": [
    "### Validações"
   ]
  },
  {
   "cell_type": "markdown",
   "metadata": {},
   "source": [
    "Para validar os nulos é preciso entender a proporção que uma variável possui, e se essa proporção está dentro dos critérios estabelecidos no projeto"
   ]
  },
  {
   "cell_type": "code",
   "execution_count": 72,
   "metadata": {},
   "outputs": [
    {
     "data": {
      "text/plain": [
       "0.007458963821649999"
      ]
     },
     "execution_count": 72,
     "metadata": {},
     "output_type": "execute_result"
    }
   ],
   "source": [
    "len(df.loc[df[\"tailnum\"].isnull()])/len(df)"
   ]
  },
  {
   "cell_type": "markdown",
   "metadata": {},
   "source": [
    "Para validar as chaves basta saber se o campo(s) chave(s) possuem a mesma quantidade de observações únicos em relação a quantidade de observações da base"
   ]
  },
  {
   "cell_type": "code",
   "execution_count": 73,
   "metadata": {},
   "outputs": [
    {
     "data": {
      "text/plain": [
       "True"
      ]
     },
     "execution_count": 73,
     "metadata": {},
     "output_type": "execute_result"
    }
   ],
   "source": [
    "len(df_work[['companhia_formatted','datetime_partida_formatted', \"id_voo\",'datetime_chegada_formatted']].drop_duplicates()) == len(df_work)"
   ]
  },
  {
   "cell_type": "markdown",
   "metadata": {},
   "source": [
    "Para criarmos alertas e/ou registramos em logs o resultado das validações"
   ]
  },
  {
   "cell_type": "code",
   "execution_count": 74,
   "metadata": {},
   "outputs": [],
   "source": [
    "import logging\n",
    "\n",
    "logging.basicConfig(filename='flights_pipe.log', level=logging.INFO) #vai criar um arquivo para os logs\n",
    "logger = logging.getLogger()"
   ]
  },
  {
   "cell_type": "code",
   "execution_count": 75,
   "metadata": {},
   "outputs": [],
   "source": [
    "logger.info(f'Inicio da execução ; {datetime.datetime.now()}')"
   ]
  },
  {
   "cell_type": "code",
   "execution_count": 76,
   "metadata": {},
   "outputs": [],
   "source": [
    "if len(df.loc[df[\"tailnum\"].isnull()])/len(df) > 0.00001:\n",
    "    logger.warning(f\"Coluna tailnum possui mais nulos do que o esperado; {datetime.datetime.now()} \")"
   ]
  },
  {
   "cell_type": "code",
   "execution_count": 77,
   "metadata": {},
   "outputs": [
    {
     "ename": "Exception",
     "evalue": "Coluna tailnum possui mais nulos do que o esperado",
     "output_type": "error",
     "traceback": [
      "\u001b[1;31m---------------------------------------------------------------------------\u001b[0m",
      "\u001b[1;31mException\u001b[0m                                 Traceback (most recent call last)",
      "Cell \u001b[1;32mIn[77], line 4\u001b[0m\n\u001b[0;32m      2\u001b[0m \u001b[38;5;28;01mif\u001b[39;00m \u001b[38;5;28mlen\u001b[39m(df\u001b[38;5;241m.\u001b[39mloc[df[\u001b[38;5;124m\"\u001b[39m\u001b[38;5;124mtailnum\u001b[39m\u001b[38;5;124m\"\u001b[39m]\u001b[38;5;241m.\u001b[39misnull()])\u001b[38;5;241m/\u001b[39m\u001b[38;5;28mlen\u001b[39m(df) \u001b[38;5;241m>\u001b[39m \u001b[38;5;241m0.00001\u001b[39m:\n\u001b[0;32m      3\u001b[0m     logger\u001b[38;5;241m.\u001b[39merror(\u001b[38;5;124mf\u001b[39m\u001b[38;5;124m\"\u001b[39m\u001b[38;5;124mColuna tailnum possui mais nulos do que o esperado; \u001b[39m\u001b[38;5;132;01m{\u001b[39;00mdatetime\u001b[38;5;241m.\u001b[39mdatetime\u001b[38;5;241m.\u001b[39mnow()\u001b[38;5;132;01m}\u001b[39;00m\u001b[38;5;124m \u001b[39m\u001b[38;5;124m\"\u001b[39m)\n\u001b[1;32m----> 4\u001b[0m     \u001b[38;5;28;01mraise\u001b[39;00m \u001b[38;5;167;01mException\u001b[39;00m(\u001b[38;5;124m\"\u001b[39m\u001b[38;5;124mColuna tailnum possui mais nulos do que o esperado\u001b[39m\u001b[38;5;124m\"\u001b[39m)\n",
      "\u001b[1;31mException\u001b[0m: Coluna tailnum possui mais nulos do que o esperado"
     ]
    }
   ],
   "source": [
    "#Gera uma falha no processo\n",
    "if len(df.loc[df[\"tailnum\"].isnull()])/len(df) > 0.00001:\n",
    "    logger.error(f\"Coluna tailnum possui mais nulos do que o esperado; {datetime.datetime.now()} \")\n",
    "    raise Exception(\"Coluna tailnum possui mais nulos do que o esperado\")"
   ]
  }
 ],
 "metadata": {
  "kernelspec": {
   "display_name": "base",
   "language": "python",
   "name": "python3"
  },
  "language_info": {
   "codemirror_mode": {
    "name": "ipython",
    "version": 3
   },
   "file_extension": ".py",
   "mimetype": "text/x-python",
   "name": "python",
   "nbconvert_exporter": "python",
   "pygments_lexer": "ipython3",
   "version": "3.12.4"
  }
 },
 "nbformat": 4,
 "nbformat_minor": 2
}
